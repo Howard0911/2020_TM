{
 "cells": [
  {
   "cell_type": "code",
   "execution_count": 1,
   "metadata": {},
   "outputs": [],
   "source": [
    "from sklearn.feature_extraction.text import CountVectorizer, TfidfVectorizer"
   ]
  },
  {
   "cell_type": "markdown",
   "metadata": {},
   "source": [
    "tfidf"
   ]
  },
  {
   "cell_type": "code",
   "execution_count": 2,
   "metadata": {},
   "outputs": [],
   "source": [
    "TFIDF_vectorizer_tri_min = TfidfVectorizer(min_df = 100, ngram_range=(1,3), stop_words ='english', lowercase = True)\n",
    "TFIDF_vectorizer_min = TfidfVectorizer(min_df = 100, stop_words ='english', lowercase = True)\n",
    "TFIDF_vectorizer = TfidfVectorizer(stop_words ='english', lowercase = True)"
   ]
  },
  {
   "cell_type": "code",
   "execution_count": 12,
   "metadata": {},
   "outputs": [],
   "source": [
    "import csv\n",
    "import re\n",
    "import scipy\n",
    "import numpy as np"
   ]
  },
  {
   "cell_type": "code",
   "execution_count": 4,
   "metadata": {},
   "outputs": [],
   "source": [
    "x = []\n",
    "with open('abcnews-date-text.csv', newline='') as csvfile:\n",
    "    rows = csv.reader(csvfile)\n",
    "    for row in rows:\n",
    "        x.append(row)"
   ]
  },
  {
   "cell_type": "code",
   "execution_count": 5,
   "metadata": {},
   "outputs": [],
   "source": [
    "docs = [re.sub(r'[0-9]+', '', doc[1]) for doc in x[1:]]"
   ]
  },
  {
   "cell_type": "code",
   "execution_count": 6,
   "metadata": {},
   "outputs": [],
   "source": [
    "TFIDF_vectors_tri_min = TFIDF_vectorizer_tri_min.fit_transform(docs)\n",
    "TFIDF_vectors_min = TFIDF_vectorizer_min.fit_transform(docs)\n",
    "TFIDF_vectors = TFIDF_vectorizer.fit_transform(docs)"
   ]
  },
  {
   "cell_type": "code",
   "execution_count": 8,
   "metadata": {},
   "outputs": [],
   "source": [
    "date = []\n",
    "for i in range(0, len(x)-1):\n",
    "    date.append(x[i+1][0])"
   ]
  },
  {
   "cell_type": "code",
   "execution_count": 16,
   "metadata": {},
   "outputs": [
    {
     "data": {
      "text/plain": [
       "1186018"
      ]
     },
     "execution_count": 16,
     "metadata": {},
     "output_type": "execute_result"
    }
   ],
   "source": [
    "len(date)"
   ]
  },
  {
   "cell_type": "code",
   "execution_count": 11,
   "metadata": {
    "scrolled": true
   },
   "outputs": [
    {
     "data": {
      "text/plain": [
       "<1186018x9736 sparse matrix of type '<class 'numpy.float64'>'\n",
       "\twith 5758956 stored elements in Compressed Sparse Row format>"
      ]
     },
     "execution_count": 11,
     "metadata": {},
     "output_type": "execute_result"
    }
   ],
   "source": [
    "TFIDF_vectors_tri_min"
   ]
  },
  {
   "cell_type": "code",
   "execution_count": 45,
   "metadata": {},
   "outputs": [],
   "source": [
    "data_tfidf_tri_min = []\n",
    "for i in range (0,1186018):\n",
    "    data_tfidf_tri_min.append(np.hstack([date[i], TFIDF_vectors_tri_min[i]]))"
   ]
  },
  {
   "cell_type": "code",
   "execution_count": 46,
   "metadata": {},
   "outputs": [],
   "source": [
    "data_tfidf_tri_min = np.reshape(data_tfidf_tri_min,(2, 1186018))"
   ]
  },
  {
   "cell_type": "code",
   "execution_count": 48,
   "metadata": {},
   "outputs": [
    {
     "data": {
      "text/plain": [
       "array([['20030219',\n",
       "        <1x9736 sparse matrix of type '<class 'numpy.float64'>'\n",
       "\twith 3 stored elements in Compressed Sparse Row format>,\n",
       "        '20030219', ...,\n",
       "        <1x9736 sparse matrix of type '<class 'numpy.float64'>'\n",
       "\twith 5 stored elements in Compressed Sparse Row format>,\n",
       "        '20110208',\n",
       "        <1x9736 sparse matrix of type '<class 'numpy.float64'>'\n",
       "\twith 3 stored elements in Compressed Sparse Row format>],\n",
       "       ['20110208',\n",
       "        <1x9736 sparse matrix of type '<class 'numpy.float64'>'\n",
       "\twith 4 stored elements in Compressed Sparse Row format>,\n",
       "        '20110208', ...,\n",
       "        <1x9736 sparse matrix of type '<class 'numpy.float64'>'\n",
       "\twith 1 stored elements in Compressed Sparse Row format>,\n",
       "        '20191231',\n",
       "        <1x9736 sparse matrix of type '<class 'numpy.float64'>'\n",
       "\twith 8 stored elements in Compressed Sparse Row format>]], dtype=object)"
      ]
     },
     "execution_count": 48,
     "metadata": {},
     "output_type": "execute_result"
    }
   ],
   "source": [
    "data_tfidf_tri_min"
   ]
  },
  {
   "cell_type": "code",
   "execution_count": 50,
   "metadata": {},
   "outputs": [],
   "source": [
    "np.save('data_tfidf_tri_min', data_tfidf_tri_min)"
   ]
  },
  {
   "cell_type": "code",
   "execution_count": 223,
   "metadata": {},
   "outputs": [],
   "source": [
    "term_names_tfidf_tri_min = TFIDF_vectorizer_tri_min.get_feature_names()\n",
    "term_names_tfidf_min = TFIDF_vectorizer_min.get_feature_names()\n",
    "term_names_tfidf = TFIDF_vectorizer.get_feature_names()"
   ]
  },
  {
   "cell_type": "code",
   "execution_count": 224,
   "metadata": {},
   "outputs": [
    {
     "name": "stdout",
     "output_type": "stream",
     "text": [
      "9736\n",
      "7551\n",
      "97534\n"
     ]
    }
   ],
   "source": [
    "print(len(term_names_tfidf_tri_min))\n",
    "print(len(term_names_tfidf_min))\n",
    "print(len(term_names_tfidf))"
   ]
  },
  {
   "cell_type": "code",
   "execution_count": 222,
   "metadata": {},
   "outputs": [],
   "source": [
    "scipy.sparse.save_npz('TFIDF_vectors_tri_min.npz', TFIDF_vectors_tri_min)\n",
    "scipy.sparse.save_npz('TFIDF_vectors_min.npz', TFIDF_vectors_min)\n",
    "scipy.sparse.save_npz('TFIDF_vectors.npz', TFIDF_vectors)"
   ]
  },
  {
   "cell_type": "markdown",
   "metadata": {},
   "source": [
    "binary "
   ]
  },
  {
   "cell_type": "code",
   "execution_count": 226,
   "metadata": {},
   "outputs": [],
   "source": [
    "binary_vectorizer = CountVectorizer(min_df = 100, binary = True)"
   ]
  },
  {
   "cell_type": "code",
   "execution_count": 210,
   "metadata": {},
   "outputs": [],
   "source": [
    "binary_vectors = binary_vectorizer.fit_transform(docs)"
   ]
  },
  {
   "cell_type": "code",
   "execution_count": 211,
   "metadata": {},
   "outputs": [
    {
     "name": "stdout",
     "output_type": "stream",
     "text": [
      "  (0, 56)\t1\n",
      "  (0, 2674)\t1\n",
      "  (0, 7648)\t1\n",
      "  (0, 4552)\t1\n",
      "  (0, 625)\t1\n",
      "  (0, 500)\t1\n",
      "  (0, 4723)\t1\n",
      "  (0, 1867)\t1\n"
     ]
    }
   ],
   "source": [
    "print(binary_vectors[1])"
   ]
  },
  {
   "cell_type": "code",
   "execution_count": 212,
   "metadata": {},
   "outputs": [],
   "source": [
    "term_names_binary = binary_vectorizer.get_feature_names()"
   ]
  },
  {
   "cell_type": "code",
   "execution_count": 213,
   "metadata": {},
   "outputs": [
    {
     "name": "stdout",
     "output_type": "stream",
     "text": [
      "7763\n"
     ]
    }
   ],
   "source": [
    "print(len(term_names_binary))"
   ]
  },
  {
   "cell_type": "code",
   "execution_count": 225,
   "metadata": {},
   "outputs": [],
   "source": [
    "scipy.sparse.save_npz('binary_vectors.npz', binary_vectors)"
   ]
  }
 ],
 "metadata": {
  "kernelspec": {
   "display_name": "Python 3",
   "language": "python",
   "name": "python3"
  },
  "language_info": {
   "codemirror_mode": {
    "name": "ipython",
    "version": 3
   },
   "file_extension": ".py",
   "mimetype": "text/x-python",
   "name": "python",
   "nbconvert_exporter": "python",
   "pygments_lexer": "ipython3",
   "version": "3.8.5"
  }
 },
 "nbformat": 4,
 "nbformat_minor": 4
}
